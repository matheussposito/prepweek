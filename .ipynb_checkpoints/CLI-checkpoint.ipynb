{
 "cells": [
  {
   "cell_type": "markdown",
   "id": "29dc59f2",
   "metadata": {},
   "source": [
    "# CLI - Command Line Interface"
   ]
  },
  {
   "cell_type": "markdown",
   "id": "2524b694",
   "metadata": {},
   "source": [
    "- `cd` (change directory. Ex.: cd \\<path>)\n",
    "- `pwd` (show current working directory. Ex.: pwd)\n",
    "- `ls` (list files and folders on the current directory. Ex.: ls)\n",
    "- `touch` (create a file. Ex.: touch hello.py)\n",
    "- `mkdir` (create a directory. Ex.: mkdir test)\n",
    "- `rm` (remove a file. Ex.: rm hello.py)\n",
    "- `rmdir` (remove empty directory. Ex.: rmdir test)\n",
    "- `rm -r` (remove directory and all files within. Ex.: rm -R test)\n",
    "- `cp` (copy a file. Ex.: cp hello.py test/hello.py)\n",
    "- `mv` (move a file. Ex.: mv test/hello.py hello2.py)\n",
    "- `ctrl + C` (quit current execution. Ex.: when running jupyter notebook press q or ctrl+C to stop)\n",
    "- `clear` or `ctrl + L` (clear the terminal screen)"
   ]
  },
  {
   "cell_type": "markdown",
   "id": "15ffd284",
   "metadata": {},
   "source": [
    "# Git & Github"
   ]
  },
  {
   "cell_type": "markdown",
   "id": "1423307f",
   "metadata": {},
   "source": [
    "## Basic Git commands"
   ]
  },
  {
   "cell_type": "markdown",
   "id": "bc98319e",
   "metadata": {},
   "source": [
    "- `git init` (start git version control)\n",
    "- `git status` (check status of file versions)\n",
    "- `git add` (add files to be controlled)\n",
    "- `git commit -m` (commit changes made to files)\n",
    "- `git diff` (checks the difference in the file versions)\n",
    "- `git log `(show the history of commits)"
   ]
  },
  {
   "cell_type": "markdown",
   "id": "3acbf701",
   "metadata": {},
   "source": [
    "## Connecting to Github"
   ]
  },
  {
   "cell_type": "markdown",
   "id": "f662f88e",
   "metadata": {},
   "source": [
    "- `gh repo create` (create a repository on GitHub)\n",
    "- `git remote -v` (show the remotes connecting the local repository to the GitHub repository) \n",
    "- `git push` (push local commited changes to the GitHub repository)\n",
    "- `git pull` (pull changes made on the GitHub repository to the local repository)"
   ]
  },
  {
   "cell_type": "markdown",
   "id": "98b1d6aa",
   "metadata": {},
   "source": [
    "# API"
   ]
  },
  {
   "cell_type": "markdown",
   "id": "fcc2dd5a",
   "metadata": {},
   "source": [
    "Retrieve information from a third party"
   ]
  },
  {
   "cell_type": "code",
   "execution_count": 2,
   "id": "74cccc21",
   "metadata": {},
   "outputs": [],
   "source": [
    "import requests"
   ]
  },
  {
   "cell_type": "code",
   "execution_count": 5,
   "id": "d65a6e44",
   "metadata": {},
   "outputs": [],
   "source": [
    "# Docs: https://anapioficeandfire.com/Documentation"
   ]
  },
  {
   "cell_type": "code",
   "execution_count": 7,
   "id": "160434ef",
   "metadata": {},
   "outputs": [],
   "source": [
    "base_url = 'https://www.anapioficeandfire.com/api/characters'\n",
    "\n",
    "params = {\n",
    "    'page': 2,\n",
    "    'pageSize':5\n",
    "}"
   ]
  },
  {
   "cell_type": "code",
   "execution_count": 9,
   "id": "40d5a497",
   "metadata": {},
   "outputs": [],
   "source": [
    "full_url = base_url + '?page=1&pageSize=2'"
   ]
  },
  {
   "cell_type": "code",
   "execution_count": 11,
   "id": "93626576",
   "metadata": {},
   "outputs": [],
   "source": [
    "response = requests.get(full_url, params)"
   ]
  },
  {
   "cell_type": "markdown",
   "id": "c4d21103",
   "metadata": {},
   "source": [
    "# Web Scraping"
   ]
  },
  {
   "cell_type": "code",
   "execution_count": 19,
   "id": "388fb3b1",
   "metadata": {},
   "outputs": [],
   "source": [
    "from bs4 import BeautifulSoup"
   ]
  },
  {
   "cell_type": "code",
   "execution_count": 38,
   "id": "fb5e135b",
   "metadata": {},
   "outputs": [],
   "source": [
    "soup = BeautifulSoup(open('prep.html'), 'html.parser')"
   ]
  }
 ],
 "metadata": {
  "kernelspec": {
   "display_name": "Python 3 (ipykernel)",
   "language": "python",
   "name": "python3"
  },
  "language_info": {
   "codemirror_mode": {
    "name": "ipython",
    "version": 3
   },
   "file_extension": ".py",
   "mimetype": "text/x-python",
   "name": "python",
   "nbconvert_exporter": "python",
   "pygments_lexer": "ipython3",
   "version": "3.8.12"
  },
  "toc": {
   "base_numbering": 1,
   "nav_menu": {},
   "number_sections": true,
   "sideBar": true,
   "skip_h1_title": false,
   "title_cell": "Table of Contents",
   "title_sidebar": "Contents",
   "toc_cell": false,
   "toc_position": {},
   "toc_section_display": true,
   "toc_window_display": false
  }
 },
 "nbformat": 4,
 "nbformat_minor": 5
}
