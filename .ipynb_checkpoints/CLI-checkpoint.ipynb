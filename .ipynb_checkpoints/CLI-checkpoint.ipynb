{
 "cells": [
  {
   "cell_type": "markdown",
   "id": "29dc59f2",
   "metadata": {},
   "source": [
    "# CLI - Command Line Interface"
   ]
  },
  {
   "cell_type": "markdown",
   "id": "2524b694",
   "metadata": {},
   "source": [
    "- `cd` (change directory. Ex.: cd \\<path>)\n",
    "- `pwd` (show current working directory. Ex.: pwd)\n",
    "- `ls` (list files and folders on the current directory. Ex.: ls)\n",
    "- `touch` (create a file. Ex.: touch hello.py)\n",
    "- `mkdir` (create a directory. Ex.: mkdir test)\n",
    "- `rm` (remove a file. Ex.: rm hello.py)\n",
    "- `rmdir` (remove empty directory. Ex.: rmdir test)\n",
    "- `rm -r` (remove directory and all files within. Ex.: rm -R test)\n",
    "- `cp` (copy a file. Ex.: cp hello.py test/hello.py)\n",
    "- `mv` (move a file. Ex.: mv test/hello.py hello2.py)\n",
    "- `ctrl + C` (quit current execution. Ex.: when running jupyter notebook press q or ctrl+C to stop)\n",
    "- `clear` or `ctrl + L` (clear the terminal screen)"
   ]
  },
  {
   "cell_type": "markdown",
   "id": "15ffd284",
   "metadata": {},
   "source": [
    "# Git & Github"
   ]
  },
  {
   "cell_type": "markdown",
   "id": "1423307f",
   "metadata": {},
   "source": [
    "## Basic Git commands"
   ]
  },
  {
   "cell_type": "markdown",
   "id": "bc98319e",
   "metadata": {},
   "source": [
    "- `git init` (start git version control)\n",
    "- `git status` (check status of file versions)\n",
    "- `git add` (add files to be controlled)\n",
    "- `git commit -m` (commit changes made to files)\n",
    "- `git diff` (checks the difference in the file versions)\n",
    "- `git log `(show the history of commits)"
   ]
  },
  {
   "cell_type": "markdown",
   "id": "3acbf701",
   "metadata": {},
   "source": [
    "## Connecting to Github"
   ]
  },
  {
   "cell_type": "markdown",
   "id": "f662f88e",
   "metadata": {},
   "source": [
    "- `gh repo create` (create a repository on GitHub)\n",
    "- `git remote -v` (show the remotes connecting the local repository to the GitHub repository) \n",
    "- `git push` (push local commited changes to the GitHub repository)\n",
    "- `git pull` (pull changes made on the GitHub repository to the local repository)"
   ]
  },
  {
   "cell_type": "markdown",
   "id": "98b1d6aa",
   "metadata": {},
   "source": [
    "# API"
   ]
  },
  {
   "cell_type": "markdown",
   "id": "fcc2dd5a",
   "metadata": {},
   "source": [
    "Retrieve information from a third party"
   ]
  },
  {
   "cell_type": "code",
   "execution_count": 1,
   "id": "74cccc21",
   "metadata": {},
   "outputs": [],
   "source": [
    "import requests"
   ]
  },
  {
   "cell_type": "code",
   "execution_count": 2,
   "id": "d65a6e44",
   "metadata": {},
   "outputs": [],
   "source": [
    "# Docs: https://anapioficeandfire.com/Documentation"
   ]
  },
  {
   "cell_type": "code",
   "execution_count": 11,
   "id": "55be3e85",
   "metadata": {},
   "outputs": [],
   "source": [
    "response = requests.get('https://www.anapioficeandfire.com/api/characters')"
   ]
  },
  {
   "cell_type": "code",
   "execution_count": 15,
   "id": "ef0f443d",
   "metadata": {},
   "outputs": [
    {
     "data": {
      "text/plain": [
       "200"
      ]
     },
     "execution_count": 15,
     "metadata": {},
     "output_type": "execute_result"
    }
   ],
   "source": [
    "response.status_code"
   ]
  },
  {
   "cell_type": "code",
   "execution_count": 16,
   "id": "27e743d4",
   "metadata": {
    "collapsed": true
   },
   "outputs": [
    {
     "data": {
      "text/plain": [
       "[{'url': 'https://www.anapioficeandfire.com/api/characters/1',\n",
       "  'name': '',\n",
       "  'gender': 'Female',\n",
       "  'culture': 'Braavosi',\n",
       "  'born': '',\n",
       "  'died': '',\n",
       "  'titles': [''],\n",
       "  'aliases': ['The Daughter of the Dusk'],\n",
       "  'father': '',\n",
       "  'mother': '',\n",
       "  'spouse': '',\n",
       "  'allegiances': [],\n",
       "  'books': ['https://www.anapioficeandfire.com/api/books/5'],\n",
       "  'povBooks': [],\n",
       "  'tvSeries': [''],\n",
       "  'playedBy': ['']},\n",
       " {'url': 'https://www.anapioficeandfire.com/api/characters/2',\n",
       "  'name': 'Walder',\n",
       "  'gender': 'Male',\n",
       "  'culture': '',\n",
       "  'born': '',\n",
       "  'died': '',\n",
       "  'titles': [''],\n",
       "  'aliases': ['Hodor'],\n",
       "  'father': '',\n",
       "  'mother': '',\n",
       "  'spouse': '',\n",
       "  'allegiances': ['https://www.anapioficeandfire.com/api/houses/362'],\n",
       "  'books': ['https://www.anapioficeandfire.com/api/books/1',\n",
       "   'https://www.anapioficeandfire.com/api/books/2',\n",
       "   'https://www.anapioficeandfire.com/api/books/3',\n",
       "   'https://www.anapioficeandfire.com/api/books/5',\n",
       "   'https://www.anapioficeandfire.com/api/books/8'],\n",
       "  'povBooks': [],\n",
       "  'tvSeries': ['Season 1', 'Season 2', 'Season 3', 'Season 4', 'Season 6'],\n",
       "  'playedBy': ['Kristian Nairn']},\n",
       " {'url': 'https://www.anapioficeandfire.com/api/characters/3',\n",
       "  'name': '',\n",
       "  'gender': 'Male',\n",
       "  'culture': '',\n",
       "  'born': '',\n",
       "  'died': '',\n",
       "  'titles': [''],\n",
       "  'aliases': ['Lamprey'],\n",
       "  'father': '',\n",
       "  'mother': '',\n",
       "  'spouse': '',\n",
       "  'allegiances': ['https://www.anapioficeandfire.com/api/houses/15'],\n",
       "  'books': ['https://www.anapioficeandfire.com/api/books/3'],\n",
       "  'povBooks': [],\n",
       "  'tvSeries': [''],\n",
       "  'playedBy': ['']},\n",
       " {'url': 'https://www.anapioficeandfire.com/api/characters/4',\n",
       "  'name': '',\n",
       "  'gender': 'Female',\n",
       "  'culture': 'Braavosi',\n",
       "  'born': '',\n",
       "  'died': '',\n",
       "  'titles': [''],\n",
       "  'aliases': ['The Merling Queen'],\n",
       "  'father': '',\n",
       "  'mother': '',\n",
       "  'spouse': '',\n",
       "  'allegiances': [],\n",
       "  'books': ['https://www.anapioficeandfire.com/api/books/5',\n",
       "   'https://www.anapioficeandfire.com/api/books/8'],\n",
       "  'povBooks': [],\n",
       "  'tvSeries': [''],\n",
       "  'playedBy': ['']},\n",
       " {'url': 'https://www.anapioficeandfire.com/api/characters/5',\n",
       "  'name': '',\n",
       "  'gender': 'Male',\n",
       "  'culture': '',\n",
       "  'born': '',\n",
       "  'died': '',\n",
       "  'titles': [''],\n",
       "  'aliases': ['Old Crackbones'],\n",
       "  'father': '',\n",
       "  'mother': '',\n",
       "  'spouse': '',\n",
       "  'allegiances': [],\n",
       "  'books': ['https://www.anapioficeandfire.com/api/books/5'],\n",
       "  'povBooks': [],\n",
       "  'tvSeries': [''],\n",
       "  'playedBy': ['']},\n",
       " {'url': 'https://www.anapioficeandfire.com/api/characters/6',\n",
       "  'name': '',\n",
       "  'gender': 'Female',\n",
       "  'culture': 'Braavosi',\n",
       "  'born': '',\n",
       "  'died': '',\n",
       "  'titles': [''],\n",
       "  'aliases': ['The Poetess'],\n",
       "  'father': '',\n",
       "  'mother': '',\n",
       "  'spouse': '',\n",
       "  'allegiances': [],\n",
       "  'books': ['https://www.anapioficeandfire.com/api/books/5'],\n",
       "  'povBooks': [],\n",
       "  'tvSeries': [''],\n",
       "  'playedBy': ['']},\n",
       " {'url': 'https://www.anapioficeandfire.com/api/characters/7',\n",
       "  'name': '',\n",
       "  'gender': 'Female',\n",
       "  'culture': '',\n",
       "  'born': '',\n",
       "  'died': '',\n",
       "  'titles': [''],\n",
       "  'aliases': ['Porridge'],\n",
       "  'father': '',\n",
       "  'mother': '',\n",
       "  'spouse': '',\n",
       "  'allegiances': ['https://www.anapioficeandfire.com/api/houses/15'],\n",
       "  'books': ['https://www.anapioficeandfire.com/api/books/3'],\n",
       "  'povBooks': [],\n",
       "  'tvSeries': [''],\n",
       "  'playedBy': ['']},\n",
       " {'url': 'https://www.anapioficeandfire.com/api/characters/8',\n",
       "  'name': '',\n",
       "  'gender': 'Male',\n",
       "  'culture': '',\n",
       "  'born': '',\n",
       "  'died': '',\n",
       "  'titles': [''],\n",
       "  'aliases': ['Quickfinger'],\n",
       "  'father': '',\n",
       "  'mother': '',\n",
       "  'spouse': '',\n",
       "  'allegiances': ['https://www.anapioficeandfire.com/api/houses/23'],\n",
       "  'books': ['https://www.anapioficeandfire.com/api/books/6'],\n",
       "  'povBooks': [],\n",
       "  'tvSeries': [''],\n",
       "  'playedBy': ['']},\n",
       " {'url': 'https://www.anapioficeandfire.com/api/characters/9',\n",
       "  'name': '',\n",
       "  'gender': 'Female',\n",
       "  'culture': '',\n",
       "  'born': '',\n",
       "  'died': '',\n",
       "  'titles': [''],\n",
       "  'aliases': [\"the Sailor's Wife\"],\n",
       "  'father': '',\n",
       "  'mother': '',\n",
       "  'spouse': '',\n",
       "  'allegiances': [],\n",
       "  'books': ['https://www.anapioficeandfire.com/api/books/5'],\n",
       "  'povBooks': [],\n",
       "  'tvSeries': [''],\n",
       "  'playedBy': ['']},\n",
       " {'url': 'https://www.anapioficeandfire.com/api/characters/10',\n",
       "  'name': '',\n",
       "  'gender': 'Female',\n",
       "  'culture': 'Braavosi',\n",
       "  'born': '',\n",
       "  'died': '',\n",
       "  'titles': [''],\n",
       "  'aliases': ['The Veiled Lady'],\n",
       "  'father': '',\n",
       "  'mother': '',\n",
       "  'spouse': '',\n",
       "  'allegiances': [],\n",
       "  'books': ['https://www.anapioficeandfire.com/api/books/5'],\n",
       "  'povBooks': [],\n",
       "  'tvSeries': [''],\n",
       "  'playedBy': ['']}]"
      ]
     },
     "execution_count": 16,
     "metadata": {},
     "output_type": "execute_result"
    }
   ],
   "source": [
    "response.json()"
   ]
  },
  {
   "cell_type": "code",
   "execution_count": 19,
   "id": "160434ef",
   "metadata": {},
   "outputs": [],
   "source": [
    "base_url = 'https://www.anapioficeandfire.com/api/characters'\n",
    "\n",
    "params = {\n",
    "    'page': 2,\n",
    "    'pageSize':5\n",
    "}"
   ]
  },
  {
   "cell_type": "code",
   "execution_count": 21,
   "id": "40d5a497",
   "metadata": {},
   "outputs": [
    {
     "data": {
      "text/plain": [
       "'https://www.anapioficeandfire.com/api/characters?page=2&pageSize=5'"
      ]
     },
     "execution_count": 21,
     "metadata": {},
     "output_type": "execute_result"
    }
   ],
   "source": [
    "full_url = base_url + '?page=2&pageSize=5'\n",
    "full_url"
   ]
  },
  {
   "cell_type": "code",
   "execution_count": 22,
   "id": "93626576",
   "metadata": {},
   "outputs": [],
   "source": [
    "response = requests.get(base_url, params)"
   ]
  },
  {
   "cell_type": "code",
   "execution_count": 23,
   "id": "e697e145",
   "metadata": {},
   "outputs": [
    {
     "data": {
      "text/plain": [
       "200"
      ]
     },
     "execution_count": 23,
     "metadata": {},
     "output_type": "execute_result"
    }
   ],
   "source": [
    "response.status_code"
   ]
  },
  {
   "cell_type": "code",
   "execution_count": 24,
   "id": "30e67c1a",
   "metadata": {},
   "outputs": [],
   "source": [
    "data = response.json()"
   ]
  },
  {
   "cell_type": "code",
   "execution_count": 33,
   "id": "9025237b",
   "metadata": {},
   "outputs": [
    {
     "data": {
      "text/plain": [
       "['The Poetess']"
      ]
     },
     "execution_count": 33,
     "metadata": {},
     "output_type": "execute_result"
    }
   ],
   "source": [
    "data[0]['aliases']"
   ]
  },
  {
   "cell_type": "markdown",
   "id": "c4d21103",
   "metadata": {},
   "source": [
    "# Web Scraping"
   ]
  },
  {
   "cell_type": "code",
   "execution_count": 34,
   "id": "388fb3b1",
   "metadata": {},
   "outputs": [],
   "source": [
    "from bs4 import BeautifulSoup"
   ]
  },
  {
   "cell_type": "code",
   "execution_count": 35,
   "id": "fb5e135b",
   "metadata": {},
   "outputs": [],
   "source": [
    "soup = BeautifulSoup(open('prep.html'), 'html.parser')"
   ]
  },
  {
   "cell_type": "code",
   "execution_count": 48,
   "id": "91fcb72f",
   "metadata": {},
   "outputs": [
    {
     "data": {
      "text/plain": [
       "[<td>Adam Goodes</td>,\n",
       " <td>66</td>,\n",
       " <td>André Marinho</td>,\n",
       " <td>87</td>,\n",
       " <td>Luiza Sanches</td>,\n",
       " <td>87</td>,\n",
       " <td>Maira Silva</td>,\n",
       " <td>66</td>,\n",
       " <td>Milene Cardoso</td>,\n",
       " <td>12</td>]"
      ]
     },
     "execution_count": 48,
     "metadata": {},
     "output_type": "execute_result"
    }
   ],
   "source": [
    "soup.find_all('td')"
   ]
  },
  {
   "cell_type": "code",
   "execution_count": 59,
   "id": "160a9a0f",
   "metadata": {},
   "outputs": [],
   "source": [
    "d = {'name': [], 'age': []}"
   ]
  },
  {
   "cell_type": "code",
   "execution_count": 60,
   "id": "5b65d9d8",
   "metadata": {},
   "outputs": [],
   "source": [
    "for element in soup.find_all('td'):\n",
    "    if element.string.isnumeric():\n",
    "        d['age'].append(int(element.string))\n",
    "    else:\n",
    "        d['name'].append(element.string)"
   ]
  },
  {
   "cell_type": "code",
   "execution_count": 61,
   "id": "84af3771",
   "metadata": {},
   "outputs": [
    {
     "data": {
      "text/plain": [
       "{'name': ['Adam Goodes',\n",
       "  'André Marinho',\n",
       "  'Luiza Sanches',\n",
       "  'Maira Silva',\n",
       "  'Milene Cardoso'],\n",
       " 'age': [66, 87, 87, 66, 12]}"
      ]
     },
     "execution_count": 61,
     "metadata": {},
     "output_type": "execute_result"
    }
   ],
   "source": [
    "d"
   ]
  },
  {
   "cell_type": "code",
   "execution_count": 55,
   "id": "26e488a8",
   "metadata": {},
   "outputs": [],
   "source": [
    "import pandas as pd"
   ]
  },
  {
   "cell_type": "code",
   "execution_count": 62,
   "id": "949fa4b6",
   "metadata": {},
   "outputs": [
    {
     "data": {
      "text/html": [
       "<div>\n",
       "<style scoped>\n",
       "    .dataframe tbody tr th:only-of-type {\n",
       "        vertical-align: middle;\n",
       "    }\n",
       "\n",
       "    .dataframe tbody tr th {\n",
       "        vertical-align: top;\n",
       "    }\n",
       "\n",
       "    .dataframe thead th {\n",
       "        text-align: right;\n",
       "    }\n",
       "</style>\n",
       "<table border=\"1\" class=\"dataframe\">\n",
       "  <thead>\n",
       "    <tr style=\"text-align: right;\">\n",
       "      <th></th>\n",
       "      <th>name</th>\n",
       "      <th>age</th>\n",
       "    </tr>\n",
       "  </thead>\n",
       "  <tbody>\n",
       "    <tr>\n",
       "      <th>0</th>\n",
       "      <td>Adam Goodes</td>\n",
       "      <td>66</td>\n",
       "    </tr>\n",
       "    <tr>\n",
       "      <th>1</th>\n",
       "      <td>André Marinho</td>\n",
       "      <td>87</td>\n",
       "    </tr>\n",
       "    <tr>\n",
       "      <th>2</th>\n",
       "      <td>Luiza Sanches</td>\n",
       "      <td>87</td>\n",
       "    </tr>\n",
       "    <tr>\n",
       "      <th>3</th>\n",
       "      <td>Maira Silva</td>\n",
       "      <td>66</td>\n",
       "    </tr>\n",
       "    <tr>\n",
       "      <th>4</th>\n",
       "      <td>Milene Cardoso</td>\n",
       "      <td>12</td>\n",
       "    </tr>\n",
       "  </tbody>\n",
       "</table>\n",
       "</div>"
      ],
      "text/plain": [
       "             name  age\n",
       "0     Adam Goodes   66\n",
       "1   André Marinho   87\n",
       "2   Luiza Sanches   87\n",
       "3     Maira Silva   66\n",
       "4  Milene Cardoso   12"
      ]
     },
     "execution_count": 62,
     "metadata": {},
     "output_type": "execute_result"
    }
   ],
   "source": [
    "df = pd.DataFrame(d)\n",
    "df"
   ]
  },
  {
   "cell_type": "code",
   "execution_count": 63,
   "id": "9d74b13a",
   "metadata": {},
   "outputs": [
    {
     "data": {
      "text/plain": [
       "<AxesSubplot:>"
      ]
     },
     "execution_count": 63,
     "metadata": {},
     "output_type": "execute_result"
    },
    {
     "data": {
      "image/png": "[encoded data removed]",
      "text/plain": [
       "<Figure size 432x288 with 1 Axes>"
      ]
     },
     "metadata": {
      "needs_background": "light"
     },
     "output_type": "display_data"
    }
   ],
   "source": [
    "df.plot(kind='bar')"
   ]
  },
  {
   "cell_type": "code",
   "execution_count": 64,
   "id": "f9527072",
   "metadata": {},
   "outputs": [
    {
     "data": {
      "text/plain": [
       "<AxesSubplot:ylabel='Frequency'>"
      ]
     },
     "execution_count": 64,
     "metadata": {},
     "output_type": "execute_result"
    },
    {
     "data": {
      "image/png": "[encoded data removed]",
      "text/plain": [
       "<Figure size 432x288 with 1 Axes>"
      ]
     },
     "metadata": {
      "needs_background": "light"
     },
     "output_type": "display_data"
    }
   ],
   "source": [
    "df.plot(kind='hist')"
   ]
  },
  {
   "cell_type": "code",
   "execution_count": null,
   "id": "24a013b5",
   "metadata": {},
   "outputs": [],
   "source": []
  }
 ],
 "metadata": {
  "kernelspec": {
   "display_name": "Python 3 (ipykernel)",
   "language": "python",
   "name": "python3"
  },
  "language_info": {
   "codemirror_mode": {
    "name": "ipython",
    "version": 3
   },
   "file_extension": ".py",
   "mimetype": "text/x-python",
   "name": "python",
   "nbconvert_exporter": "python",
   "pygments_lexer": "ipython3",
   "version": "3.8.12"
  },
  "toc": {
   "base_numbering": 1,
   "nav_menu": {},
   "number_sections": true,
   "sideBar": true,
   "skip_h1_title": false,
   "title_cell": "Table of Contents",
   "title_sidebar": "Contents",
   "toc_cell": false,
   "toc_position": {},
   "toc_section_display": true,
   "toc_window_display": false
  }
 },
 "nbformat": 4,
 "nbformat_minor": 5
}
